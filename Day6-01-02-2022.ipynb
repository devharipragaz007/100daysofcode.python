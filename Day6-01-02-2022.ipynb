{
 "cells": [
  {
   "cell_type": "markdown",
   "metadata": {},
   "source": [
    "Classes"
   ]
  },
  {
   "cell_type": "code",
   "execution_count": 4,
   "metadata": {},
   "outputs": [],
   "source": [
    "import datetime"
   ]
  },
  {
   "cell_type": "code",
   "execution_count": 9,
   "metadata": {},
   "outputs": [],
   "source": [
    "class Person:\n",
    "    def __init__(self, name, phone, dob, delivery_address, card_details):\n",
    "        self.name = name\n",
    "        self.phone = phone\n",
    "        self.delivery_address = delivery_address\n",
    "        self.card_details = card_details\n",
    "        #convert dd/mm/yyyy string to date object\n",
    "        self.dob = datetime.datetime.strptime(dob, \"%d/%m/%Y\").date()\n",
    "\n",
    "    def getDeliveryAddress(self):\n",
    "        return self.delivery_address\n",
    "    \n",
    "    def getCardDetails(self):\n",
    "        return self.card_details\n",
    "    \n",
    "    def getBasicDetails(self):\n",
    "        return self.name, self.phone\n",
    "\n",
    "    def calculateAge(self):\n",
    "        today = datetime.date.today()\n",
    "        return today.year - self.dob.year - ((today.month, today.day) < (self.dob.month, self.dob.day))"
   ]
  },
  {
   "cell_type": "code",
   "execution_count": 10,
   "metadata": {},
   "outputs": [
    {
     "name": "stdout",
     "output_type": "stream",
     "text": [
      "kgfghjg\n",
      "54646546\n",
      "('Hariprakash', '8610640560')\n",
      "24\n"
     ]
    }
   ],
   "source": [
    "name = input(\"Enter your name: \")\n",
    "phone = input(\"Enter your phone number: \")\n",
    "dob = input(\"Enter your date of birth (dd/mm/yyyy): \")\n",
    "delivery_address = input(\"Enter your delivery address: \")\n",
    "card_details = input(\"Enter your card details: \")\n",
    "\n",
    "newUser = Person(name, phone, dob, delivery_address, card_details)\n",
    "\n",
    "print(newUser.getDeliveryAddress())\n",
    "print(newUser.getCardDetails())\n",
    "print(newUser.getBasicDetails())\n",
    "print(newUser.calculateAge())"
   ]
  },
  {
   "cell_type": "code",
   "execution_count": 3,
   "metadata": {},
   "outputs": [
    {
     "name": "stdout",
     "output_type": "stream",
     "text": [
      "36 ahdfghag\n",
      "54215754\n",
      "('Hariprakash', '8610640560')\n"
     ]
    }
   ],
   "source": [
    "name1 = input(\"Enter your name: \")\n",
    "phone1 = input(\"Enter your phone number: \")\n",
    "delivery_address1 = input(\"Enter your delivery address: \")\n",
    "card_details1 = input(\"Enter your card details: \")\n",
    "\n",
    "newUser1 = Person(name1, phone1, delivery_address1, card_details1)\n",
    "\n",
    "print(newUser1.getDeliveryAddress())\n",
    "print(newUser1.getCardDetails())\n",
    "print(newUser1.getBasicDetails())\n"
   ]
  }
 ],
 "metadata": {
  "interpreter": {
   "hash": "02a65fb7827553353f776743105b078b8fb3f4d4649154a2bdac9d998d90915d"
  },
  "kernelspec": {
   "display_name": "Python 3.9.10 64-bit (windows store)",
   "language": "python",
   "name": "python3"
  },
  "language_info": {
   "codemirror_mode": {
    "name": "ipython",
    "version": 3
   },
   "file_extension": ".py",
   "mimetype": "text/x-python",
   "name": "python",
   "nbconvert_exporter": "python",
   "pygments_lexer": "ipython3",
   "version": "3.9.10"
  },
  "orig_nbformat": 4
 },
 "nbformat": 4,
 "nbformat_minor": 2
}
