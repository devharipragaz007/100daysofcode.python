{
 "cells": [
  {
   "cell_type": "markdown",
   "metadata": {},
   "source": [
    "<b> If Elif Else... \n",
    "Functions.. </b>"
   ]
  },
  {
   "cell_type": "code",
   "execution_count": 6,
   "metadata": {},
   "outputs": [],
   "source": [
    "def detectNumberType(num):\n",
    "    num = int(num)\n",
    "    if(num > 0):\n",
    "        return str(num) + \" is a positive number!\"\n",
    "    elif(num == 0):\n",
    "        return str(num) + \" is zero!\"\n",
    "    else:\n",
    "        return str(num) + \" is a negative number!\""
   ]
  },
  {
   "cell_type": "code",
   "execution_count": 10,
   "metadata": {},
   "outputs": [
    {
     "name": "stdout",
     "output_type": "stream",
     "text": [
      "10 is a positive number!\n"
     ]
    }
   ],
   "source": [
    "print(detectNumberType(10))"
   ]
  },
  {
   "cell_type": "markdown",
   "metadata": {},
   "source": [
    "<h4> Nested If </h4>"
   ]
  },
  {
   "cell_type": "code",
   "execution_count": 11,
   "metadata": {},
   "outputs": [],
   "source": [
    "def detectNumberType1(num):\n",
    "    num = int(num)\n",
    "    if(num >= 0):\n",
    "        if(num > 0):\n",
    "            return str(num) + \" is a positive number!\"\n",
    "        else:\n",
    "            return str(num) + \" is a zero!\"\n",
    "    else:\n",
    "        return str(num) + \" is a negative number!\""
   ]
  },
  {
   "cell_type": "code",
   "execution_count": 17,
   "metadata": {},
   "outputs": [
    {
     "name": "stdout",
     "output_type": "stream",
     "text": [
      "0 is a zero!\n",
      "-5 is a negative number!\n",
      "10 is a positive number!\n"
     ]
    }
   ],
   "source": [
    "print(detectNumberType1(0))\n",
    "print(detectNumberType1(-5))\n",
    "print(detectNumberType1(10))"
   ]
  }
 ],
 "metadata": {
  "interpreter": {
   "hash": "02a65fb7827553353f776743105b078b8fb3f4d4649154a2bdac9d998d90915d"
  },
  "kernelspec": {
   "display_name": "Python 3.9.10 64-bit (windows store)",
   "language": "python",
   "name": "python3"
  },
  "language_info": {
   "codemirror_mode": {
    "name": "ipython",
    "version": 3
   },
   "file_extension": ".py",
   "mimetype": "text/x-python",
   "name": "python",
   "nbconvert_exporter": "python",
   "pygments_lexer": "ipython3",
   "version": "3.9.10"
  },
  "orig_nbformat": 4
 },
 "nbformat": 4,
 "nbformat_minor": 2
}
