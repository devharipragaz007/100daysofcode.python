{
 "cells": [
  {
   "cell_type": "markdown",
   "id": "c7971af3",
   "metadata": {},
   "source": [
    "Generate OTP and Verify OTP\n"
   ]
  },
  {
   "cell_type": "code",
   "execution_count": 3,
   "id": "61d06457",
   "metadata": {},
   "outputs": [],
   "source": [
    "import numpy"
   ]
  },
  {
   "cell_type": "code",
   "execution_count": 32,
   "id": "f0f47d10",
   "metadata": {},
   "outputs": [],
   "source": [
    "def verifyOtp(userInput, generatedOtp):\n",
    "    userInput = int(userInput)\n",
    "    generatedOtp = int(generatedOtp)\n",
    "    print(userInput,generatedOtp, int(userInput) == int(generatedOtp))\n",
    "    if userInput == generatedOtp:\n",
    "        print(\"OTP Verified Successfully!\")\n",
    "    else:\n",
    "        print(\"OTP Incorrect! Please try again!\")"
   ]
  },
  {
   "cell_type": "code",
   "execution_count": 16,
   "id": "89f24c84",
   "metadata": {
    "scrolled": true
   },
   "outputs": [
    {
     "name": "stdout",
     "output_type": "stream",
     "text": [
      "0.564077053345082 564077\n"
     ]
    }
   ],
   "source": [
    "# generate random number\n",
    "randomNumber=numpy.random.rand()\n",
    "otp = int(randomNumber*1000000)\n",
    "print(randomNumber,otp)"
   ]
  },
  {
   "cell_type": "code",
   "execution_count": 18,
   "id": "920bd13a",
   "metadata": {
    "scrolled": true
   },
   "outputs": [
    {
     "name": "stdout",
     "output_type": "stream",
     "text": [
      "Please enter OTP 564077\n"
     ]
    }
   ],
   "source": [
    "userOtp = input(\"Please enter OTP \")"
   ]
  },
  {
   "cell_type": "code",
   "execution_count": 33,
   "id": "2eea3127",
   "metadata": {},
   "outputs": [
    {
     "name": "stdout",
     "output_type": "stream",
     "text": [
      "564077 564077 True\n",
      "OTP Verified Successfully!\n"
     ]
    }
   ],
   "source": [
    "verifyOtp(userOtp,otp)"
   ]
  },
  {
   "cell_type": "code",
   "execution_count": null,
   "id": "718ace1e",
   "metadata": {},
   "outputs": [],
   "source": []
  }
 ],
 "metadata": {
  "kernelspec": {
   "display_name": "Python 3 (ipykernel)",
   "language": "python",
   "name": "python3"
  },
  "language_info": {
   "codemirror_mode": {
    "name": "ipython",
    "version": 3
   },
   "file_extension": ".py",
   "mimetype": "text/x-python",
   "name": "python",
   "nbconvert_exporter": "python",
   "pygments_lexer": "ipython3",
   "version": "3.9.7"
  }
 },
 "nbformat": 4,
 "nbformat_minor": 5
}
