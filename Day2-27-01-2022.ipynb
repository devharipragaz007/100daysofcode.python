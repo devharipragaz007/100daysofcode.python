{
 "cells": [
  {
   "cell_type": "markdown",
   "metadata": {},
   "source": [
    "Lists"
   ]
  },
  {
   "cell_type": "code",
   "execution_count": 32,
   "metadata": {},
   "outputs": [
    {
     "name": "stdout",
     "output_type": "stream",
     "text": [
      "Hello , hari prakash , babu\n"
     ]
    },
    {
     "data": {
      "text/plain": [
       "'hari,prakash,babu'"
      ]
     },
     "execution_count": 32,
     "metadata": {},
     "output_type": "execute_result"
    }
   ],
   "source": [
    "my_list = []\n",
    "first_name = input(\"Please enter your first name : \")\n",
    "middle_name = input(\"Please enter your middle name : \")\n",
    "last_name = input(\"Please enter your last name : \")\n",
    "my_list.append(first_name)\n",
    "my_list.append(middle_name)\n",
    "my_list.append(last_name)\n",
    "\n",
    "print(\"Hello ,\", my_list[0] , my_list[1], \",\", my_list[2] )\n",
    "s = ','.join(my_list)\n",
    "s\n",
    "# my_list"
   ]
  },
  {
   "cell_type": "code",
   "execution_count": 33,
   "metadata": {},
   "outputs": [
    {
     "name": "stdout",
     "output_type": "stream",
     "text": [
      "['hari', 'prakash', 'babu']\n"
     ]
    },
    {
     "data": {
      "text/plain": [
       "['hari', 'prakash']"
      ]
     },
     "execution_count": 33,
     "metadata": {},
     "output_type": "execute_result"
    }
   ],
   "source": [
    "print(my_list)\n",
    "my_list.pop(len(my_list) - 1)\n",
    "my_list"
   ]
  },
  {
   "cell_type": "markdown",
   "metadata": {},
   "source": [
    "Tuples"
   ]
  },
  {
   "cell_type": "code",
   "execution_count": 37,
   "metadata": {},
   "outputs": [
    {
     "data": {
      "text/plain": [
       "('Hari', 'Prakash', 'Babu', 'Hari')"
      ]
     },
     "execution_count": 37,
     "metadata": {},
     "output_type": "execute_result"
    }
   ],
   "source": [
    "my_tuple = ('Hari', 'Prakash', 'Babu', 'Hari')\n",
    "my_tuple"
   ]
  },
  {
   "cell_type": "code",
   "execution_count": 43,
   "metadata": {},
   "outputs": [
    {
     "name": "stdout",
     "output_type": "stream",
     "text": [
      "4\n",
      "('Hari', 'Prakash', 'Babu', 'Hari')\n"
     ]
    },
    {
     "data": {
      "text/plain": [
       "2"
      ]
     },
     "execution_count": 43,
     "metadata": {},
     "output_type": "execute_result"
    }
   ],
   "source": [
    "c = my_tuple.count(\"Hari\")\n",
    "print(len(my_tuple))\n",
    "print(my_tuple)\n",
    "c"
   ]
  },
  {
   "cell_type": "markdown",
   "metadata": {},
   "source": [
    "Sets"
   ]
  },
  {
   "cell_type": "code",
   "execution_count": 62,
   "metadata": {},
   "outputs": [
    {
     "data": {
      "text/plain": [
       "False"
      ]
     },
     "execution_count": 62,
     "metadata": {},
     "output_type": "execute_result"
    }
   ],
   "source": [
    "my_set = { 'Hari', 'Prakash', 'Babu' }\n",
    "my_set1 = { 'Hari', 'Prakash', 'Babu' }\n",
    "my_set.add('Name')\n",
    "my_set.symmetric_difference(my_set1)\n",
    "my_set1.isdisjoint(my_set1)"
   ]
  },
  {
   "cell_type": "code",
   "execution_count": 67,
   "metadata": {},
   "outputs": [
    {
     "data": {
      "text/plain": [
       "{'first_name': 'Hari', 'middle_name': 'Prakash', 'last_name': 'Babu'}"
      ]
     },
     "execution_count": 67,
     "metadata": {},
     "output_type": "execute_result"
    }
   ],
   "source": [
    "my_dict = {\n",
    "    \"first_name\" : \"Hari\",\n",
    "    \"middle_name\" : \"Prakash\",\n",
    "    \"last_name\" : \"Babu\",\n",
    "}\n",
    "\n",
    "my_dict"
   ]
  },
  {
   "cell_type": "code",
   "execution_count": null,
   "metadata": {},
   "outputs": [],
   "source": []
  }
 ],
 "metadata": {
  "interpreter": {
   "hash": "02a65fb7827553353f776743105b078b8fb3f4d4649154a2bdac9d998d90915d"
  },
  "kernelspec": {
   "display_name": "Python 3.9.10 64-bit (windows store)",
   "language": "python",
   "name": "python3"
  },
  "language_info": {
   "codemirror_mode": {
    "name": "ipython",
    "version": 3
   },
   "file_extension": ".py",
   "mimetype": "text/x-python",
   "name": "python",
   "nbconvert_exporter": "python",
   "pygments_lexer": "ipython3",
   "version": "3.9.10"
  },
  "orig_nbformat": 4
 },
 "nbformat": 4,
 "nbformat_minor": 2
}
