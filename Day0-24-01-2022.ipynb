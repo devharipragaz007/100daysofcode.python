{
 "cells": [
  {
   "cell_type": "code",
   "execution_count": 1,
   "id": "4cf37fad",
   "metadata": {},
   "outputs": [
    {
     "name": "stdout",
     "output_type": "stream",
     "text": [
      "Hariprakash Babu\n"
     ]
    }
   ],
   "source": [
    "print(\"Hariprakash Babu\")"
   ]
  },
  {
   "cell_type": "code",
   "execution_count": 2,
   "id": "0ac5882f",
   "metadata": {},
   "outputs": [],
   "source": [
    "name='Hariprakash Babu'\n",
    "age=25\n",
    "dob=\"22-11-1997\""
   ]
  },
  {
   "cell_type": "code",
   "execution_count": 3,
   "id": "0ab6bc95",
   "metadata": {},
   "outputs": [
    {
     "name": "stdout",
     "output_type": "stream",
     "text": [
      "15\n"
     ]
    }
   ],
   "source": [
    "a=5\n",
    "b=10\n",
    "c=a+b\n",
    "print(c)"
   ]
  },
  {
   "cell_type": "code",
   "execution_count": 20,
   "id": "eff0168c",
   "metadata": {},
   "outputs": [],
   "source": [
    "def addNumbers(a,b):\n",
    "    return a+b;\n",
    "\n",
    "def subractNumbers(a,b):\n",
    "    return a-b;\n",
    "\n",
    "def findGreater(a,b):\n",
    "    if a>b:\n",
    "        return a;\n",
    "    else:\n",
    "        return b;"
   ]
  },
  {
   "cell_type": "code",
   "execution_count": 11,
   "id": "d80e7917",
   "metadata": {},
   "outputs": [
    {
     "data": {
      "text/plain": [
       "15"
      ]
     },
     "execution_count": 11,
     "metadata": {},
     "output_type": "execute_result"
    }
   ],
   "source": [
    "addNumbers(10,5)"
   ]
  },
  {
   "cell_type": "code",
   "execution_count": 21,
   "id": "4f27a65c",
   "metadata": {},
   "outputs": [
    {
     "data": {
      "text/plain": [
       "-40"
      ]
     },
     "execution_count": 21,
     "metadata": {},
     "output_type": "execute_result"
    }
   ],
   "source": [
    "subractNumbers(10,50)"
   ]
  },
  {
   "cell_type": "code",
   "execution_count": 25,
   "id": "b7392d56",
   "metadata": {},
   "outputs": [
    {
     "data": {
      "text/plain": [
       "-10"
      ]
     },
     "execution_count": 25,
     "metadata": {},
     "output_type": "execute_result"
    }
   ],
   "source": [
    "findGreater(-50,-10)"
   ]
  }
 ],
 "metadata": {
  "kernelspec": {
   "display_name": "Python 3 (ipykernel)",
   "language": "python",
   "name": "python3"
  },
  "language_info": {
   "codemirror_mode": {
    "name": "ipython",
    "version": 3
   },
   "file_extension": ".py",
   "mimetype": "text/x-python",
   "name": "python",
   "nbconvert_exporter": "python",
   "pygments_lexer": "ipython3",
   "version": "3.9.7"
  }
 },
 "nbformat": 4,
 "nbformat_minor": 5
}
